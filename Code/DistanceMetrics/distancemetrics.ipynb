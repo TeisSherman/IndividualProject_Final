{
 "cells": [
  {
   "cell_type": "code",
   "execution_count": 1,
   "source": [
    "import numpy as np\n",
    "import pandas as pd\n",
    "import matplotlib.pyplot as plt\n",
    "import pickle\n",
    "import random\n",
    "from scipy.spatial import distance"
   ],
   "outputs": [],
   "metadata": {}
  },
  {
   "cell_type": "code",
   "execution_count": 2,
   "source": [
    "sys.path.insert(0, '/Users/teissherman/Desktop/GitHub/IndividualProject/Project/OWL2VecStar/lib')\n",
    "from PreprocessEmbeddings import load_all_Pairs, new_p_dict"
   ],
   "outputs": [],
   "metadata": {}
  },
  {
   "cell_type": "code",
   "execution_count": null,
   "source": [
    "# open embeddings with best performance \n",
    "files = ['/Users/teissherman/Desktop/GitHub/IndividualProject/Project/Output/Embeddings/8_R_2_p.pickle',\n",
    "          '/Users/teissherman/Desktop/GitHub/IndividualProject/Project/Output/Embeddings/opa2vec_p.pickle',\n",
    "          '/Users/teissherman/Desktop/GitHub/IndividualProject/Project/Output/Embeddings/1_R_2_p.pickle']\n",
    "protein_embeddings = []\n",
    "for file in files:\n",
    "        with open(file, 'rb') as f:\n",
    "                protein_embedding = pickle.load(f)\n",
    "                protein_embeddings.append(protein_embedding)"
   ],
   "outputs": [],
   "metadata": {}
  },
  {
   "cell_type": "code",
   "execution_count": 90,
   "source": [
    "# all positive and negative interactions\n",
    "df_positive_pairs, df_negative_pairs = load_all_Pairs('/Users/teissherman/Desktop/GitHub/IndividualProject/Project/data/9606.protein.links.v11.5.txt', \n",
    "                                '/Users/teissherman/Desktop/GitHub/IndividualProject/Project/data/9606.negative_interactions.txt')"
   ],
   "outputs": [
    {
     "output_type": "stream",
     "name": "stdout",
     "text": [
      "Number of Unique Proteins: 19385\n"
     ]
    },
    {
     "output_type": "stream",
     "name": "stderr",
     "text": [
      "/Users/teissherman/Desktop/GitHub/IndividualProject/Project/OWL2VecStar/lib/PreprocessEmbeddings.py:48: FutureWarning: The default value of regex will change from True to False in a future version. In addition, single character regular expressions will *not* be treated as literal strings when regex=True.\n",
      "  df_positive_pairs.loc[:,'protein1'] = df_positive_pairs.loc[:,'protein1'].str.replace('.','_')\n",
      "/Users/teissherman/Desktop/GitHub/IndividualProject/Project/OWL2VecStar/lib/PreprocessEmbeddings.py:49: FutureWarning: The default value of regex will change from True to False in a future version. In addition, single character regular expressions will *not* be treated as literal strings when regex=True.\n",
      "  df_positive_pairs.loc[:,'protein2'] = df_positive_pairs.loc[:,'protein2'].str.replace('.','_')\n"
     ]
    },
    {
     "output_type": "stream",
     "name": "stdout",
     "text": [
      "11938498\n"
     ]
    },
    {
     "output_type": "stream",
     "name": "stderr",
     "text": [
      "/Users/teissherman/Desktop/GitHub/IndividualProject/Project/OWL2VecStar/lib/PreprocessEmbeddings.py:56: FutureWarning: The default value of regex will change from True to False in a future version. In addition, single character regular expressions will *not* be treated as literal strings when regex=True.\n",
      "  df_negative_pairs.loc[:,'protein1'] = df_negative_pairs.loc[:,'protein1'].str.replace('.','_')\n",
      "/Users/teissherman/Desktop/GitHub/IndividualProject/Project/OWL2VecStar/lib/PreprocessEmbeddings.py:57: FutureWarning: The default value of regex will change from True to False in a future version. In addition, single character regular expressions will *not* be treated as literal strings when regex=True.\n",
      "  df_negative_pairs.loc[:,'protein2'] = df_negative_pairs.loc[:,'protein2'].str.replace('.','_')\n"
     ]
    }
   ],
   "metadata": {}
  },
  {
   "cell_type": "code",
   "execution_count": 25,
   "source": [
    "# calculate euclidean distance for all\n",
    "pair_emb_8_R_2 = new_p_dict(df_positive_pairs, df_negative_pairs, protein_embeddings[0])\n",
    "pair_emb_opa2vec = new_p_dict(df_positive_pairs, df_negative_pairs, protein_embeddings[1])\n",
    "pair_emb_1_R_2 = new_p_dict(df_positive_pairs, df_negative_pairs, protein_embeddings[2])"
   ],
   "outputs": [
    {
     "output_type": "stream",
     "name": "stdout",
     "text": [
      "21621\n",
      "21621\n",
      "21621\n"
     ]
    }
   ],
   "metadata": {}
  },
  {
   "cell_type": "code",
   "execution_count": 93,
   "source": [
    "# calculate euclidean distance for each protein pair, both positive and negative\n",
    "def calc_distance(pair_embeddings, distance_type):\n",
    "    distances = {}\n",
    "    for key,value in pair_embeddings.items():\n",
    "        length = int(len(value)/2)\n",
    "        p1 = value[0:length]\n",
    "        p2 = value[length:]\n",
    "\n",
    "        if distance_type == 'Euclidean':\n",
    "            dist = distance.euclidean(p1, p2)\n",
    "        else:\n",
    "            dist = distance.cosine(p1,p2)\n",
    "\n",
    "        # convert key from tuple to list and append to new dict which holds euclidean distances\n",
    "        key_list = list(key)\n",
    "        distances[key] = dist\n",
    "\n",
    "    positive_score = []\n",
    "    negative_score = []\n",
    "    for key, value in distances.items():\n",
    "        if key[2] > 700:\n",
    "            positive_score.append(distances[key])\n",
    "        else:\n",
    "            negative_score.append(distances[key])\n",
    "\n",
    "    average_positive = sum(positive_score) / len(positive_score)\n",
    "    average_negative = sum(negative_score) / len(negative_score) \n",
    "\n",
    "    return average_positive, average_negative  "
   ],
   "outputs": [],
   "metadata": {}
  },
  {
   "cell_type": "code",
   "execution_count": 67,
   "source": [
    "average_positive_8_R_2, average_negative_8_R_2 = calc_distance(pair_emb_8_R_2[0], 'Cosine')\n",
    "average_positive_opa2vec, average_negative_opa2vec = calc_distance(pair_emb_opa2vec[0], 'Cosine')\n",
    "average_positive_1_R_2, average_negative_1_R_2 = calc_distance(pair_emb_1_R_2[0], 'Cosine')\n",
    "\n",
    "difference_8_R_2 = average_negative_8_R_2 - average_positive_8_R_2  \n",
    "difference_opa2vec =  average_negative_opa2vec - average_positive_opa2vec\n",
    "difference_1_R_2 =  average_negative_1_R_2 - average_positive_1_R_2"
   ],
   "outputs": [],
   "metadata": {}
  },
  {
   "cell_type": "code",
   "execution_count": 69,
   "source": [
    "#bar plot for euclidean distance\n",
    "x_labels = ['OWL2Vec*: Ds,l,tc + Viri', 'OPA2Vec', 'OWL2Vec*: Ds + Viri']\n",
    "labels = ['Positive Interactions', 'Negative Interactions', 'Difference']\n",
    "\n",
    "a1 = [average_positive_8_R_2, average_positive_opa2vec, average_positive_1_R_2]\n",
    "a2 = [average_negative_8_R_2, average_negative_opa2vec, average_negative_1_R_2]\n",
    "a3 = [difference_8_R_2, difference_opa2vec, difference_1_R_2]\n",
    "\n",
    "x = np.arange(len(x_labels))\n",
    "width = 0.13\n",
    "\n",
    "# plot\n",
    "plt.bar(x - 0.15, a1, width, label=labels[0], color='darkorange')\n",
    "plt.bar(x + 0, a2, width, label=labels[1], color='lightsteelblue')\n",
    "plt.bar(x + 0.15, a3, width, label=labels[2], color='red')\n",
    "\n",
    "for i,v in enumerate(a3):\n",
    "    plt.text(i + 0.10, v + 0.15, str(round(v,2)))\n",
    "\n",
    "plt.xticks(x, x_labels)\n",
    "# Add some text for labels, title and custom x-axis tick labels, etc.\n",
    "plt.legend()\n",
    "plt.gca().yaxis.grid(True)\n",
    "plt.ylabel('Cosine Distance')\n",
    "plt.title('Cosine Distance between Positive and Negative Interactions')"
   ],
   "outputs": [
    {
     "output_type": "execute_result",
     "data": {
      "text/plain": [
       "Text(0.5, 1.0, 'Cosine Distance between Positive and Negative Interactions')"
      ]
     },
     "metadata": {},
     "execution_count": 69
    },
    {
     "output_type": "display_data",
     "data": {
      "image/png": "[encoded data removed]",
      "text/plain": [
       "<Figure size 432x288 with 1 Axes>"
      ]
     },
     "metadata": {
      "needs_background": "light"
     }
    }
   ],
   "metadata": {}
  },
  {
   "cell_type": "code",
   "execution_count": null,
   "source": [],
   "outputs": [],
   "metadata": {}
  },
  {
   "cell_type": "code",
   "execution_count": null,
   "source": [
    "# open pickled files in results and append to dictionary\n",
    "results_embeddings = {}\n",
    "filenames = []\n",
    "for root, dirs, files in os.walk(\"/Users/teissherman/Desktop/GitHub/IndividualProject/Project/Output/Embeddings/\"):\n",
    "    for file in files:\n",
    "        # remove .pickle\n",
    "        name = str(file).replace(\".pickle\", \"\")\n",
    "        filenames.append(name)\n",
    "        with open(root + file, 'rb') as f:\n",
    "            loaded_embeddings = pickle.load(f)\n",
    "            loaded_embeddings = new_p_dict(df_positive_pairs, df_negative_pairs, loaded_embeddings)\n",
    "        #use pathname as lookup in dictionary\n",
    "        results_embeddings[name] = loaded_embeddings"
   ],
   "outputs": [],
   "metadata": {}
  },
  {
   "cell_type": "code",
   "execution_count": null,
   "source": [
    "# pickle given size of file / change to euclidean if euclidean\n",
    "with open('/Users/teissherman/Desktop/GitHub/IndividualProject/Project/Output/CosineExperiment/cosine_results.pickle', 'wb') as f:\n",
    "    pickle.dump(results_embeddings_cosine, f)"
   ],
   "outputs": [],
   "metadata": {}
  },
  {
   "cell_type": "code",
   "execution_count": null,
   "source": [
    "#pickle given size of file / change to euclidean if euclidean\n",
    "with open('/Users/teissherman/Desktop/GitHub/IndividualProject/Project/Output/CosineExperiment/euclidean_results.pickle', 'wb') as f:\n",
    "    pickle.dump(results_embeddings, f)"
   ],
   "outputs": [],
   "metadata": {}
  },
  {
   "cell_type": "code",
   "execution_count": 94,
   "source": [
    "from collections import defaultdict\n",
    "\n",
    "# calculate cosine distance\n",
    "results_distances_e= defaultdict(dict)\n",
    "for key, value in results_embeddings.items():\n",
    "    average_positive, average_negative = calc_distance(results_embeddings[key][0], 'euclidean')\n",
    "    difference = average_negative - average_positive\n",
    "    results_distances_e[str(key)]['average_positive'] = average_positive\n",
    "    results_distances_e[str(key)]['average_negative'] = average_negative\n",
    "    results_distances_e[str(key)]['difference'] = difference\n",
    "    "
   ],
   "outputs": [],
   "metadata": {}
  },
  {
   "cell_type": "code",
   "execution_count": 55,
   "source": [
    "# pickle given size of file / change to euclidean if euclidean\n",
    "with open('/Users/teissherman/Desktop/GitHub/IndividualProject/Project/Output/CosineExperiment/cosine_results.pickle', 'wb') as f:\n",
    "    pickle.dump(results_distances_cosine, f)"
   ],
   "outputs": [],
   "metadata": {}
  },
  {
   "cell_type": "code",
   "execution_count": 95,
   "source": [
    "# pickle given size of file / change to euclidean if euclidean\n",
    "with open('/Users/teissherman/Desktop/GitHub/IndividualProject/Project/Output/CosineExperiment/euclidean_results.pickle', 'wb') as f:\n",
    "    pickle.dump(results_distances_e, f)"
   ],
   "outputs": [],
   "metadata": {}
  },
  {
   "cell_type": "code",
   "execution_count": 31,
   "source": [
    "# open results\n",
    "with open('/Users/teissherman/Desktop/GitHub/IndividualProject/Project/Output/CosineExperiment/cosine_results.pickle', 'rb') as f:\n",
    "    results_distances = pickle.load(f)"
   ],
   "outputs": [],
   "metadata": {}
  },
  {
   "cell_type": "code",
   "execution_count": 4,
   "source": [
    "# open ml results auc with correct keys and match\n",
    "with open('/Users/teissherman/Desktop/GitHub/IndividualProject/Project/Output/CosineExperiment/euclidean_results.pickle', 'rb') as f:\n",
    "    results_distances_e = pickle.load(f)"
   ],
   "outputs": [],
   "metadata": {}
  },
  {
   "cell_type": "code",
   "execution_count": 33,
   "source": [
    "# open ml results auc with correct keys and match\n",
    "with open('/Users/teissherman/Desktop/GitHub/IndividualProject/Project/Output/CosineExperiment/all_auc_scores.pickle', 'rb') as f:\n",
    "    df_all_results = pickle.load(f)"
   ],
   "outputs": [],
   "metadata": {}
  },
  {
   "cell_type": "markdown",
   "source": [
    "Cosine Correlation"
   ],
   "metadata": {}
  },
  {
   "cell_type": "code",
   "execution_count": 34,
   "source": [
    "# calculate cosine correlation to AUC\n",
    "df_all_results.set_index('Configuration', inplace=True)\n",
    "df_difference = pd.DataFrame.from_dict(results_distances).T\n",
    "df_difference = df_difference['difference']\n",
    "df_difference = pd.DataFrame(df_difference)\n",
    "df_difference.index = df_difference.index.map(lambda x: str(x)[:-2])"
   ],
   "outputs": [],
   "metadata": {}
  },
  {
   "cell_type": "code",
   "execution_count": 35,
   "source": [
    "# merge dataframes and plot\n",
    "df_merged_cosine = df_all_results.join(df_difference)"
   ],
   "outputs": [],
   "metadata": {}
  },
  {
   "cell_type": "code",
   "execution_count": 37,
   "source": [
    "df_merged_cosine = df_merged_cosine.dropna()"
   ],
   "outputs": [],
   "metadata": {}
  },
  {
   "cell_type": "code",
   "execution_count": 68,
   "source": [
    "from scipy.stats import spearmanr\n",
    "\n",
    "# graphical representation of differences in average distance between positive adn engative across embedding method and AUC\n",
    "x = np.array(df_merged_cosine[df_merged_cosine['variable'] == 'auc_mlp']['difference']).astype('float32')\n",
    "y = np.array(df_merged_cosine[df_merged_cosine['variable'] == 'auc_mlp']['value']).astype('float32')\n",
    "\n",
    "# calculate Pearson's correlation for cosine distances\n",
    "corr_cosine = spearmanr(x, y)\n",
    "\n",
    "#plot\n",
    "m, b = np.polyfit(x, y, 1)\n",
    "plt.scatter(x, y)\n",
    "plt.plot(x, m*x + b, color='orange', linestyle='dashed', label = 'Spearman Correlation: ' + str(corr_cosine[0].round(3)))\n",
    "plt.title('Cosine Distance vs. Classifier Performance')\n",
    "plt.ylabel('Area under Curve')\n",
    "plt.xlabel('Average Negative Distance - Average Positive Distance')\n",
    "plt.legend()\n",
    "plt.show()"
   ],
   "outputs": [
    {
     "output_type": "display_data",
     "data": {
      "image/png": "[encoded data removed]",
      "text/plain": [
       "<Figure size 432x288 with 1 Axes>"
      ]
     },
     "metadata": {
      "needs_background": "light"
     }
    }
   ],
   "metadata": {}
  },
  {
   "cell_type": "code",
   "execution_count": 60,
   "source": [
    "corr_cosine[0]"
   ],
   "outputs": [
    {
     "output_type": "execute_result",
     "data": {
      "text/plain": [
       "-0.3987022965935285"
      ]
     },
     "metadata": {},
     "execution_count": 60
    }
   ],
   "metadata": {}
  },
  {
   "cell_type": "markdown",
   "source": [
    "Euclidean Correlation"
   ],
   "metadata": {}
  },
  {
   "cell_type": "code",
   "execution_count": 40,
   "source": [
    "# calculate for euclidean distance\n",
    "#df_all_results.set_index('Configuration', inplace=True)\n",
    "df_difference_e = pd.DataFrame.from_dict(results_distances_e).T\n",
    "df_difference_e = df_difference_e['difference']\n",
    "df_difference_e = pd.DataFrame(df_difference_e)\n",
    "df_difference_e.index = df_difference_e.index.map(lambda x: str(x)[:-2])"
   ],
   "outputs": [],
   "metadata": {}
  },
  {
   "cell_type": "code",
   "execution_count": 41,
   "source": [
    "# merge dataframes and plot\n",
    "df_merged_e = df_all_results.join(df_difference_e)\n",
    "df_merged_e.dropna(inplace=True)"
   ],
   "outputs": [],
   "metadata": {}
  },
  {
   "cell_type": "code",
   "execution_count": 67,
   "source": [
    "# graphical representation of differences in average distance between positive adn engative across embedding method and AUC\n",
    "x = np.array(df_merged_e[df_merged_e['variable'] == 'auc_mlp']['difference']).astype('float32')\n",
    "y = np.array(df_merged_e[df_merged_e['variable'] == 'auc_mlp']['value']).astype('float32')\n",
    "\n",
    "#correlation\n",
    "corr_euclidean = spearmanr(x, y)\n",
    "\n",
    "#plot\n",
    "m, b = np.polyfit(x, y, 1)\n",
    "plt.scatter(x, y)\n",
    "plt.plot(x, m*x + b, color='orange', linestyle='dashed', label = 'Spearman Correlation: ' + str(corr_euclidean[0].round(3)))\n",
    "plt.title('Euclidean Distance vs. Classifier Performance')\n",
    "plt.ylabel('Area under Curve')\n",
    "plt.xlabel('Average Negative Distance - Average Positive Distance')\n",
    "plt.legend()\n",
    "plt.show()"
   ],
   "outputs": [
    {
     "output_type": "display_data",
     "data": {
      "image/png": "[encoded data removed]",
      "text/plain": [
       "<Figure size 432x288 with 1 Axes>"
      ]
     },
     "metadata": {
      "needs_background": "light"
     }
    }
   ],
   "metadata": {}
  },
  {
   "cell_type": "code",
   "execution_count": 43,
   "source": [
    "from scipy.stats import spearmanr\n",
    "# calculate Pearson's correlation for cosine distances\n",
    "\n"
   ],
   "outputs": [
    {
     "output_type": "stream",
     "name": "stdout",
     "text": [
      "SpearmanrResult(correlation=-0.3050456757448988, pvalue=0.027881752144938526)\n"
     ]
    }
   ],
   "metadata": {}
  }
 ],
 "metadata": {
  "orig_nbformat": 4,
  "language_info": {
   "name": "python",
   "version": "3.7.9",
   "mimetype": "text/x-python",
   "codemirror_mode": {
    "name": "ipython",
    "version": 3
   },
   "pygments_lexer": "ipython3",
   "nbconvert_exporter": "python",
   "file_extension": ".py"
  },
  "kernelspec": {
   "name": "python3",
   "display_name": "Python 3.7.9 64-bit ('SMWKG': conda)"
  },
  "interpreter": {
   "hash": "07b9714c10f0fa27e0393fb8b9b296c2ec1c2c727f2c6db093e91a70e66d2de2"
  }
 },
 "nbformat": 4,
 "nbformat_minor": 2
}